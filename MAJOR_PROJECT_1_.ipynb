{
  "cells": [
    {
      "cell_type": "code",
      "execution_count": 1,
      "metadata": {
        "colab": {
          "base_uri": "https://localhost:8080/"
        },
        "id": "cQt2clsoMGJ-",
        "outputId": "c5b3c69c-c5c4-4128-8ab2-03033418932d"
      },
      "outputs": [],
      "source": [
        "!pip install ultralytics gradio opencv-python matplotlib --quiet\n"
      ]
    },
    {
      "cell_type": "code",
      "execution_count": 3,
      "metadata": {},
      "outputs": [
        {
          "name": "stderr",
          "output_type": "stream",
          "text": [
            "/Users/aryanjha/Downloads/MAJOR PROJEC- ADAS/.venv/lib/python3.12/site-packages/tqdm/auto.py:21: TqdmWarning: IProgress not found. Please update jupyter and ipywidgets. See https://ipywidgets.readthedocs.io/en/stable/user_install.html\n",
            "  from .autonotebook import tqdm as notebook_tqdm\n",
            "Matplotlib is building the font cache; this may take a moment.\n"
          ]
        }
      ],
      "source": [
        "# 📌 Step 2: Import Libraries\n",
        "import gradio as gr\n",
        "import cv2\n",
        "import os\n",
        "import numpy as np\n",
        "from ultralytics import YOLO\n",
        "from PIL import Image\n"
      ]
    },
    {
      "cell_type": "code",
      "execution_count": 5,
      "metadata": {
        "id": "TwmRSzTcK34d"
      },
      "outputs": [],
      "source": [
        "model_path = \"/Users/aryanjha/Downloads/MAJOR PROJEC- ADAS/detect/train2/weights/best.pt\"\n",
        "model = YOLO(model_path)\n"
      ]
    },
    {
      "cell_type": "code",
      "execution_count": 8,
      "metadata": {
        "id": "7B0o-m0BMzeK"
      },
      "outputs": [],
      "source": [
        "def detect_objects(image):\n",
        "    img_array = np.array(image)\n",
        "    results = model(image, conf=0.25)  # Try lowering to 0.2 or even 0.1]\n",
        "    output_image = results.plot()  # YOLOv8 plots boxes on the image\n",
        "    return Image.fromarray(output_image)\n"
      ]
    },
    {
      "cell_type": "code",
      "execution_count": 10,
      "metadata": {
        "id": "7CnujPwDKYvG"
      },
      "outputs": [
        {
          "name": "stdout",
          "output_type": "stream",
          "text": [
            "* Running on local URL:  http://127.0.0.1:7862\n",
            "\n",
            "To create a public link, set `share=True` in `launch()`.\n"
          ]
        },
        {
          "data": {
            "text/html": [
              "<div><iframe src=\"http://127.0.0.1:7862/\" width=\"100%\" height=\"500\" allow=\"autoplay; camera; microphone; clipboard-read; clipboard-write;\" frameborder=\"0\" allowfullscreen></iframe></div>"
            ],
            "text/plain": [
              "<IPython.core.display.HTML object>"
            ]
          },
          "metadata": {},
          "output_type": "display_data"
        },
        {
          "data": {
            "text/plain": []
          },
          "execution_count": 10,
          "metadata": {},
          "output_type": "execute_result"
        },
        {
          "name": "stdout",
          "output_type": "stream",
          "text": [
            "\n",
            "0: 480x640 1 left_hand_curve, 67.7ms\n",
            "Speed: 2.7ms preprocess, 67.7ms inference, 2.3ms postprocess per image at shape (1, 3, 480, 640)\n"
          ]
        },
        {
          "name": "stderr",
          "output_type": "stream",
          "text": [
            "Traceback (most recent call last):\n",
            "  File \"/Users/aryanjha/Downloads/MAJOR PROJEC- ADAS/.venv/lib/python3.12/site-packages/gradio/queueing.py\", line 625, in process_events\n",
            "    response = await route_utils.call_process_api(\n",
            "               ^^^^^^^^^^^^^^^^^^^^^^^^^^^^^^^^^^^\n",
            "  File \"/Users/aryanjha/Downloads/MAJOR PROJEC- ADAS/.venv/lib/python3.12/site-packages/gradio/route_utils.py\", line 322, in call_process_api\n",
            "    output = await app.get_blocks().process_api(\n",
            "             ^^^^^^^^^^^^^^^^^^^^^^^^^^^^^^^^^^^\n",
            "  File \"/Users/aryanjha/Downloads/MAJOR PROJEC- ADAS/.venv/lib/python3.12/site-packages/gradio/blocks.py\", line 2137, in process_api\n",
            "    result = await self.call_function(\n",
            "             ^^^^^^^^^^^^^^^^^^^^^^^^^\n",
            "  File \"/Users/aryanjha/Downloads/MAJOR PROJEC- ADAS/.venv/lib/python3.12/site-packages/gradio/blocks.py\", line 1663, in call_function\n",
            "    prediction = await anyio.to_thread.run_sync(  # type: ignore\n",
            "                 ^^^^^^^^^^^^^^^^^^^^^^^^^^^^^^^^^^^^^^^^^^^^^^^\n",
            "  File \"/Users/aryanjha/Downloads/MAJOR PROJEC- ADAS/.venv/lib/python3.12/site-packages/anyio/to_thread.py\", line 56, in run_sync\n",
            "    return await get_async_backend().run_sync_in_worker_thread(\n",
            "           ^^^^^^^^^^^^^^^^^^^^^^^^^^^^^^^^^^^^^^^^^^^^^^^^^^^^\n",
            "  File \"/Users/aryanjha/Downloads/MAJOR PROJEC- ADAS/.venv/lib/python3.12/site-packages/anyio/_backends/_asyncio.py\", line 2470, in run_sync_in_worker_thread\n",
            "    return await future\n",
            "           ^^^^^^^^^^^^\n",
            "  File \"/Users/aryanjha/Downloads/MAJOR PROJEC- ADAS/.venv/lib/python3.12/site-packages/anyio/_backends/_asyncio.py\", line 967, in run\n",
            "    result = context.run(func, *args)\n",
            "             ^^^^^^^^^^^^^^^^^^^^^^^^\n",
            "  File \"/Users/aryanjha/Downloads/MAJOR PROJEC- ADAS/.venv/lib/python3.12/site-packages/gradio/utils.py\", line 890, in wrapper\n",
            "    response = f(*args, **kwargs)\n",
            "               ^^^^^^^^^^^^^^^^^^\n",
            "  File \"/var/folders/jq/_90vll057xbfv1gz36q8zhgh0000gn/T/ipykernel_6674/3186812414.py\", line 4, in detect_objects\n",
            "    output_image = results.plot()  # YOLOv8 plots boxes on the image\n",
            "                   ^^^^^^^^^^^^\n",
            "AttributeError: 'list' object has no attribute 'plot'\n"
          ]
        }
      ],
      "source": [
        "# 📌 Step 5: Build Gradio GUI\n",
        "title = \"🚗 Road Object Detection with YOLOv8\"\n",
        "description = \"Upload or select a test image for real-time object detection. Built with your trained model.\"\n",
        "\n",
        "demo = gr.Interface(\n",
        "    fn=detect_objects,\n",
        "    inputs=gr.Image(type=\"pil\", label=\"Upload Image\"),\n",
        "    outputs=gr.Image(type=\"pil\", label=\"Detected Output\"),\n",
        "    title=title,\n",
        "    description=description,\n",
        "    examples=[\n",
        "        \"/Users/aryanjha/Downloads/MAJOR PROJEC- ADAS/road_object_detection/images/val/IMG_20221106_105328.jpg\",\n",
        "        # Add more test image paths if needed\n",
        "    ]\n",
        ")\n",
        "\n",
        "demo.launch()\n"
      ]
    }
  ],
  "metadata": {
    "accelerator": "GPU",
    "colab": {
      "gpuType": "A100",
      "machine_shape": "hm",
      "provenance": []
    },
    "kernelspec": {
      "display_name": "Python 3",
      "name": "python3"
    },
    "language_info": {
      "codemirror_mode": {
        "name": "ipython",
        "version": 3
      },
      "file_extension": ".py",
      "mimetype": "text/x-python",
      "name": "python",
      "nbconvert_exporter": "python",
      "pygments_lexer": "ipython3",
      "version": "3.12.1"
    }
  },
  "nbformat": 4,
  "nbformat_minor": 0
}
